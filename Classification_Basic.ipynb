{
  "nbformat": 4,
  "nbformat_minor": 0,
  "metadata": {
    "colab": {
      "name": "Classification_Basic.ipynb",
      "provenance": [],
      "collapsed_sections": [],
      "authorship_tag": "ABX9TyMBL7eo4JzeW+MBoC9bClgL",
      "include_colab_link": true
    },
    "kernelspec": {
      "name": "python3",
      "display_name": "Python 3"
    },
    "language_info": {
      "name": "python"
    }
  },
  "cells": [
    {
      "cell_type": "markdown",
      "metadata": {
        "id": "view-in-github",
        "colab_type": "text"
      },
      "source": [
        "<a href=\"https://colab.research.google.com/github/kaiyoken3618/Classification_Keras/blob/main/Classification_Basic.ipynb\" target=\"_parent\"><img src=\"https://colab.research.google.com/assets/colab-badge.svg\" alt=\"Open In Colab\"/></a>"
      ]
    },
    {
      "cell_type": "markdown",
      "metadata": {
        "id": "ZK_xPrd02T5z"
      },
      "source": [
        "Mount Google drive"
      ]
    },
    {
      "cell_type": "code",
      "metadata": {
        "colab": {
          "base_uri": "https://localhost:8080/"
        },
        "id": "C-puzaQU2hRQ",
        "outputId": "926f0b69-0255-4625-8b51-5c7e02ad2c0a"
      },
      "source": [
        "from google.colab import drive\n",
        "drive.mount('/content/drive')"
      ],
      "execution_count": 2,
      "outputs": [
        {
          "output_type": "stream",
          "text": [
            "Mounted at /content/drive\n"
          ],
          "name": "stdout"
        }
      ]
    },
    {
      "cell_type": "markdown",
      "metadata": {
        "id": "9fxDcyt83B3W"
      },
      "source": [
        "Data Read"
      ]
    },
    {
      "cell_type": "code",
      "metadata": {
        "colab": {
          "base_uri": "https://localhost:8080/",
          "height": 198
        },
        "id": "zoEPPpU33DlI",
        "outputId": "a370c75d-472c-4ead-a744-e4d434e77f87"
      },
      "source": [
        "import pandas as pd \n",
        "#read in training data\n",
        "train_df_2 = pd.read_csv('/content/drive/MyDrive/data/diabetes_data.csv')\n",
        "\n",
        "#view data structure\n",
        "train_df_2.head()"
      ],
      "execution_count": 3,
      "outputs": [
        {
          "output_type": "execute_result",
          "data": {
            "text/html": [
              "<div>\n",
              "<style scoped>\n",
              "    .dataframe tbody tr th:only-of-type {\n",
              "        vertical-align: middle;\n",
              "    }\n",
              "\n",
              "    .dataframe tbody tr th {\n",
              "        vertical-align: top;\n",
              "    }\n",
              "\n",
              "    .dataframe thead th {\n",
              "        text-align: right;\n",
              "    }\n",
              "</style>\n",
              "<table border=\"1\" class=\"dataframe\">\n",
              "  <thead>\n",
              "    <tr style=\"text-align: right;\">\n",
              "      <th></th>\n",
              "      <th>pregnancies</th>\n",
              "      <th>glucose</th>\n",
              "      <th>diastolic</th>\n",
              "      <th>triceps</th>\n",
              "      <th>insulin</th>\n",
              "      <th>bmi</th>\n",
              "      <th>dpf</th>\n",
              "      <th>age</th>\n",
              "      <th>diabetes</th>\n",
              "    </tr>\n",
              "  </thead>\n",
              "  <tbody>\n",
              "    <tr>\n",
              "      <th>0</th>\n",
              "      <td>6</td>\n",
              "      <td>148</td>\n",
              "      <td>72</td>\n",
              "      <td>35</td>\n",
              "      <td>0</td>\n",
              "      <td>33.6</td>\n",
              "      <td>0.627</td>\n",
              "      <td>50</td>\n",
              "      <td>1</td>\n",
              "    </tr>\n",
              "    <tr>\n",
              "      <th>1</th>\n",
              "      <td>1</td>\n",
              "      <td>85</td>\n",
              "      <td>66</td>\n",
              "      <td>29</td>\n",
              "      <td>0</td>\n",
              "      <td>26.6</td>\n",
              "      <td>0.351</td>\n",
              "      <td>31</td>\n",
              "      <td>0</td>\n",
              "    </tr>\n",
              "    <tr>\n",
              "      <th>2</th>\n",
              "      <td>8</td>\n",
              "      <td>183</td>\n",
              "      <td>64</td>\n",
              "      <td>0</td>\n",
              "      <td>0</td>\n",
              "      <td>23.3</td>\n",
              "      <td>0.672</td>\n",
              "      <td>32</td>\n",
              "      <td>1</td>\n",
              "    </tr>\n",
              "    <tr>\n",
              "      <th>3</th>\n",
              "      <td>1</td>\n",
              "      <td>89</td>\n",
              "      <td>66</td>\n",
              "      <td>23</td>\n",
              "      <td>94</td>\n",
              "      <td>28.1</td>\n",
              "      <td>0.167</td>\n",
              "      <td>21</td>\n",
              "      <td>0</td>\n",
              "    </tr>\n",
              "    <tr>\n",
              "      <th>4</th>\n",
              "      <td>0</td>\n",
              "      <td>137</td>\n",
              "      <td>40</td>\n",
              "      <td>35</td>\n",
              "      <td>168</td>\n",
              "      <td>43.1</td>\n",
              "      <td>2.288</td>\n",
              "      <td>33</td>\n",
              "      <td>1</td>\n",
              "    </tr>\n",
              "  </tbody>\n",
              "</table>\n",
              "</div>"
            ],
            "text/plain": [
              "   pregnancies  glucose  diastolic  triceps  ...   bmi    dpf  age  diabetes\n",
              "0            6      148         72       35  ...  33.6  0.627   50         1\n",
              "1            1       85         66       29  ...  26.6  0.351   31         0\n",
              "2            8      183         64        0  ...  23.3  0.672   32         1\n",
              "3            1       89         66       23  ...  28.1  0.167   21         0\n",
              "4            0      137         40       35  ...  43.1  2.288   33         1\n",
              "\n",
              "[5 rows x 9 columns]"
            ]
          },
          "metadata": {
            "tags": []
          },
          "execution_count": 3
        }
      ]
    },
    {
      "cell_type": "markdown",
      "metadata": {
        "id": "0G-QjGdcBEf-"
      },
      "source": [
        "Removing target column for training"
      ]
    },
    {
      "cell_type": "code",
      "metadata": {
        "colab": {
          "base_uri": "https://localhost:8080/",
          "height": 198
        },
        "id": "uKv0xrWABFB5",
        "outputId": "ff14bd3e-9a38-4126-dd0a-a701fb9b04d4"
      },
      "source": [
        "#create a dataframe with all training data except the target column\n",
        "train_X_2 = train_df_2.drop(columns=['diabetes'])\n",
        "\n",
        "#check that the target variable has been removed\n",
        "train_X_2.head()"
      ],
      "execution_count": 4,
      "outputs": [
        {
          "output_type": "execute_result",
          "data": {
            "text/html": [
              "<div>\n",
              "<style scoped>\n",
              "    .dataframe tbody tr th:only-of-type {\n",
              "        vertical-align: middle;\n",
              "    }\n",
              "\n",
              "    .dataframe tbody tr th {\n",
              "        vertical-align: top;\n",
              "    }\n",
              "\n",
              "    .dataframe thead th {\n",
              "        text-align: right;\n",
              "    }\n",
              "</style>\n",
              "<table border=\"1\" class=\"dataframe\">\n",
              "  <thead>\n",
              "    <tr style=\"text-align: right;\">\n",
              "      <th></th>\n",
              "      <th>pregnancies</th>\n",
              "      <th>glucose</th>\n",
              "      <th>diastolic</th>\n",
              "      <th>triceps</th>\n",
              "      <th>insulin</th>\n",
              "      <th>bmi</th>\n",
              "      <th>dpf</th>\n",
              "      <th>age</th>\n",
              "    </tr>\n",
              "  </thead>\n",
              "  <tbody>\n",
              "    <tr>\n",
              "      <th>0</th>\n",
              "      <td>6</td>\n",
              "      <td>148</td>\n",
              "      <td>72</td>\n",
              "      <td>35</td>\n",
              "      <td>0</td>\n",
              "      <td>33.6</td>\n",
              "      <td>0.627</td>\n",
              "      <td>50</td>\n",
              "    </tr>\n",
              "    <tr>\n",
              "      <th>1</th>\n",
              "      <td>1</td>\n",
              "      <td>85</td>\n",
              "      <td>66</td>\n",
              "      <td>29</td>\n",
              "      <td>0</td>\n",
              "      <td>26.6</td>\n",
              "      <td>0.351</td>\n",
              "      <td>31</td>\n",
              "    </tr>\n",
              "    <tr>\n",
              "      <th>2</th>\n",
              "      <td>8</td>\n",
              "      <td>183</td>\n",
              "      <td>64</td>\n",
              "      <td>0</td>\n",
              "      <td>0</td>\n",
              "      <td>23.3</td>\n",
              "      <td>0.672</td>\n",
              "      <td>32</td>\n",
              "    </tr>\n",
              "    <tr>\n",
              "      <th>3</th>\n",
              "      <td>1</td>\n",
              "      <td>89</td>\n",
              "      <td>66</td>\n",
              "      <td>23</td>\n",
              "      <td>94</td>\n",
              "      <td>28.1</td>\n",
              "      <td>0.167</td>\n",
              "      <td>21</td>\n",
              "    </tr>\n",
              "    <tr>\n",
              "      <th>4</th>\n",
              "      <td>0</td>\n",
              "      <td>137</td>\n",
              "      <td>40</td>\n",
              "      <td>35</td>\n",
              "      <td>168</td>\n",
              "      <td>43.1</td>\n",
              "      <td>2.288</td>\n",
              "      <td>33</td>\n",
              "    </tr>\n",
              "  </tbody>\n",
              "</table>\n",
              "</div>"
            ],
            "text/plain": [
              "   pregnancies  glucose  diastolic  triceps  insulin   bmi    dpf  age\n",
              "0            6      148         72       35        0  33.6  0.627   50\n",
              "1            1       85         66       29        0  26.6  0.351   31\n",
              "2            8      183         64        0        0  23.3  0.672   32\n",
              "3            1       89         66       23       94  28.1  0.167   21\n",
              "4            0      137         40       35      168  43.1  2.288   33"
            ]
          },
          "metadata": {
            "tags": []
          },
          "execution_count": 4
        }
      ]
    },
    {
      "cell_type": "markdown",
      "metadata": {
        "id": "tj2moljPCKvn"
      },
      "source": [
        "Dataframe with only Target Column"
      ]
    },
    {
      "cell_type": "code",
      "metadata": {
        "colab": {
          "base_uri": "https://localhost:8080/",
          "height": 198
        },
        "id": "0f3xRJLWCNXF",
        "outputId": "f963d1d4-694b-446d-ff84-2737e3397f7d"
      },
      "source": [
        "#create a dataframe with only the target column\n",
        "train_y = train_df_2[['diabetes']]\n",
        "\n",
        "#view dataframe\n",
        "train_y.head()"
      ],
      "execution_count": 5,
      "outputs": [
        {
          "output_type": "execute_result",
          "data": {
            "text/html": [
              "<div>\n",
              "<style scoped>\n",
              "    .dataframe tbody tr th:only-of-type {\n",
              "        vertical-align: middle;\n",
              "    }\n",
              "\n",
              "    .dataframe tbody tr th {\n",
              "        vertical-align: top;\n",
              "    }\n",
              "\n",
              "    .dataframe thead th {\n",
              "        text-align: right;\n",
              "    }\n",
              "</style>\n",
              "<table border=\"1\" class=\"dataframe\">\n",
              "  <thead>\n",
              "    <tr style=\"text-align: right;\">\n",
              "      <th></th>\n",
              "      <th>diabetes</th>\n",
              "    </tr>\n",
              "  </thead>\n",
              "  <tbody>\n",
              "    <tr>\n",
              "      <th>0</th>\n",
              "      <td>1</td>\n",
              "    </tr>\n",
              "    <tr>\n",
              "      <th>1</th>\n",
              "      <td>0</td>\n",
              "    </tr>\n",
              "    <tr>\n",
              "      <th>2</th>\n",
              "      <td>1</td>\n",
              "    </tr>\n",
              "    <tr>\n",
              "      <th>3</th>\n",
              "      <td>0</td>\n",
              "    </tr>\n",
              "    <tr>\n",
              "      <th>4</th>\n",
              "      <td>1</td>\n",
              "    </tr>\n",
              "  </tbody>\n",
              "</table>\n",
              "</div>"
            ],
            "text/plain": [
              "   diabetes\n",
              "0         1\n",
              "1         0\n",
              "2         1\n",
              "3         0\n",
              "4         1"
            ]
          },
          "metadata": {
            "tags": []
          },
          "execution_count": 5
        }
      ]
    },
    {
      "cell_type": "markdown",
      "metadata": {
        "id": "FLEO_y1m_wj3"
      },
      "source": [
        "Performing One- Hot encoding on the case"
      ]
    },
    {
      "cell_type": "code",
      "metadata": {
        "colab": {
          "base_uri": "https://localhost:8080/"
        },
        "id": "Nm5DnpUx_1BI",
        "outputId": "2678bb80-a4c7-40d7-d5d8-bcbffae75679"
      },
      "source": [
        "from keras.utils import to_categorical\n",
        "#one-hot encode target column\n",
        "train_y_2 = to_categorical(train_df_2.diabetes)\n",
        "\n",
        "#vcheck that target column has been converted\n",
        "train_y_2[0:5]"
      ],
      "execution_count": 6,
      "outputs": [
        {
          "output_type": "execute_result",
          "data": {
            "text/plain": [
              "array([[0., 1.],\n",
              "       [1., 0.],\n",
              "       [0., 1.],\n",
              "       [1., 0.],\n",
              "       [0., 1.]], dtype=float32)"
            ]
          },
          "metadata": {
            "tags": []
          },
          "execution_count": 6
        }
      ]
    },
    {
      "cell_type": "markdown",
      "metadata": {
        "id": "WuVYP2U8AoCu"
      },
      "source": [
        "Model Creation"
      ]
    },
    {
      "cell_type": "code",
      "metadata": {
        "id": "MTJaDbKzApMv"
      },
      "source": [
        "#create model \n",
        "from keras.models import Sequential\n",
        "from keras.layers import Dense\n",
        "model_2 = Sequential()\n",
        "\n",
        "#get number of columns in training data\n",
        "n_cols_2 = train_X_2.shape[1]\n",
        "\n",
        "#add layers to model\n",
        "model_2.add(Dense(250, activation='relu', input_shape=(n_cols_2,)))\n",
        "model_2.add(Dense(250, activation='relu'))\n",
        "model_2.add(Dense(250, activation='relu'))\n",
        "model_2.add(Dense(2, activation='softmax'))"
      ],
      "execution_count": 7,
      "outputs": []
    },
    {
      "cell_type": "markdown",
      "metadata": {
        "id": "jEifdpWr2uzj"
      },
      "source": [
        "Compiling Model"
      ]
    },
    {
      "cell_type": "code",
      "metadata": {
        "id": "tQkI62ZfBZL5"
      },
      "source": [
        "#compile model using accuracy to measure model performance\n",
        "model_2.compile(optimizer='adam', loss='categorical_crossentropy', metrics=['accuracy']) \n"
      ],
      "execution_count": 8,
      "outputs": []
    },
    {
      "cell_type": "markdown",
      "metadata": {
        "id": "UxQhnw0PBaeE"
      },
      "source": [
        "Model Training"
      ]
    },
    {
      "cell_type": "code",
      "metadata": {
        "colab": {
          "base_uri": "https://localhost:8080/"
        },
        "id": "UWjzhrGtBsml",
        "outputId": "c7d81dad-c2c6-4018-a490-e560c69ebb22"
      },
      "source": [
        "from keras.callbacks import EarlyStopping\n",
        "#set early stopping monitor so the model stops training when it won't improve anymore\n",
        "#early_stopping_monitor = EarlyStopping(patience=3) \n",
        "\n",
        "#train model\n",
        "hist = model_2.fit(train_X_2,train_y_2, validation_split=0.2, epochs=30)   \n",
        " \n",
        "\n",
        " \n",
        "\n",
        "\n",
        " \n"
      ],
      "execution_count": 13,
      "outputs": [
        {
          "output_type": "stream",
          "text": [
            "Epoch 1/30\n",
            "20/20 [==============================] - 0s 7ms/step - loss: 0.5514 - accuracy: 0.7248 - val_loss: 0.6342 - val_accuracy: 0.6688\n",
            "Epoch 2/30\n",
            "20/20 [==============================] - 0s 4ms/step - loss: 0.5137 - accuracy: 0.7329 - val_loss: 0.6018 - val_accuracy: 0.6948\n",
            "Epoch 3/30\n",
            "20/20 [==============================] - 0s 4ms/step - loss: 0.5319 - accuracy: 0.7134 - val_loss: 0.6041 - val_accuracy: 0.7078\n",
            "Epoch 4/30\n",
            "20/20 [==============================] - 0s 4ms/step - loss: 0.5114 - accuracy: 0.7492 - val_loss: 0.5975 - val_accuracy: 0.7143\n",
            "Epoch 5/30\n",
            "20/20 [==============================] - 0s 4ms/step - loss: 0.5132 - accuracy: 0.7248 - val_loss: 0.6110 - val_accuracy: 0.6753\n",
            "Epoch 6/30\n",
            "20/20 [==============================] - 0s 4ms/step - loss: 0.5288 - accuracy: 0.7362 - val_loss: 0.6869 - val_accuracy: 0.6883\n",
            "Epoch 7/30\n",
            "20/20 [==============================] - 0s 4ms/step - loss: 0.5365 - accuracy: 0.7150 - val_loss: 0.6212 - val_accuracy: 0.6688\n",
            "Epoch 8/30\n",
            "20/20 [==============================] - 0s 4ms/step - loss: 0.5257 - accuracy: 0.7459 - val_loss: 0.6161 - val_accuracy: 0.7338\n",
            "Epoch 9/30\n",
            "20/20 [==============================] - 0s 4ms/step - loss: 0.5111 - accuracy: 0.7476 - val_loss: 0.6367 - val_accuracy: 0.6753\n",
            "Epoch 10/30\n",
            "20/20 [==============================] - 0s 5ms/step - loss: 0.5415 - accuracy: 0.7215 - val_loss: 0.5729 - val_accuracy: 0.7727\n",
            "Epoch 11/30\n",
            "20/20 [==============================] - 0s 4ms/step - loss: 0.5647 - accuracy: 0.7199 - val_loss: 0.6052 - val_accuracy: 0.6753\n",
            "Epoch 12/30\n",
            "20/20 [==============================] - 0s 5ms/step - loss: 0.5345 - accuracy: 0.7280 - val_loss: 0.5941 - val_accuracy: 0.7338\n",
            "Epoch 13/30\n",
            "20/20 [==============================] - 0s 4ms/step - loss: 0.5283 - accuracy: 0.7313 - val_loss: 0.5964 - val_accuracy: 0.6818\n",
            "Epoch 14/30\n",
            "20/20 [==============================] - 0s 5ms/step - loss: 0.5264 - accuracy: 0.7459 - val_loss: 0.6297 - val_accuracy: 0.6818\n",
            "Epoch 15/30\n",
            "20/20 [==============================] - 0s 4ms/step - loss: 0.5095 - accuracy: 0.7524 - val_loss: 0.5823 - val_accuracy: 0.7468\n",
            "Epoch 16/30\n",
            "20/20 [==============================] - 0s 4ms/step - loss: 0.5497 - accuracy: 0.7345 - val_loss: 0.6121 - val_accuracy: 0.6948\n",
            "Epoch 17/30\n",
            "20/20 [==============================] - 0s 4ms/step - loss: 0.5316 - accuracy: 0.7166 - val_loss: 0.5824 - val_accuracy: 0.7208\n",
            "Epoch 18/30\n",
            "20/20 [==============================] - 0s 4ms/step - loss: 0.4971 - accuracy: 0.7557 - val_loss: 0.5687 - val_accuracy: 0.7597\n",
            "Epoch 19/30\n",
            "20/20 [==============================] - 0s 4ms/step - loss: 0.4760 - accuracy: 0.7573 - val_loss: 0.6402 - val_accuracy: 0.7013\n",
            "Epoch 20/30\n",
            "20/20 [==============================] - 0s 4ms/step - loss: 0.5076 - accuracy: 0.7638 - val_loss: 0.6031 - val_accuracy: 0.6818\n",
            "Epoch 21/30\n",
            "20/20 [==============================] - 0s 4ms/step - loss: 0.4889 - accuracy: 0.7524 - val_loss: 0.6005 - val_accuracy: 0.7208\n",
            "Epoch 22/30\n",
            "20/20 [==============================] - 0s 4ms/step - loss: 0.4975 - accuracy: 0.7508 - val_loss: 0.5660 - val_accuracy: 0.7403\n",
            "Epoch 23/30\n",
            "20/20 [==============================] - 0s 4ms/step - loss: 0.4839 - accuracy: 0.7834 - val_loss: 0.6058 - val_accuracy: 0.6883\n",
            "Epoch 24/30\n",
            "20/20 [==============================] - 0s 4ms/step - loss: 0.4953 - accuracy: 0.7541 - val_loss: 0.5871 - val_accuracy: 0.7532\n",
            "Epoch 25/30\n",
            "20/20 [==============================] - 0s 4ms/step - loss: 0.5018 - accuracy: 0.7492 - val_loss: 0.6374 - val_accuracy: 0.7013\n",
            "Epoch 26/30\n",
            "20/20 [==============================] - 0s 4ms/step - loss: 0.5026 - accuracy: 0.7410 - val_loss: 0.5828 - val_accuracy: 0.7597\n",
            "Epoch 27/30\n",
            "20/20 [==============================] - 0s 4ms/step - loss: 0.4947 - accuracy: 0.7476 - val_loss: 0.6128 - val_accuracy: 0.7532\n",
            "Epoch 28/30\n",
            "20/20 [==============================] - 0s 5ms/step - loss: 0.5180 - accuracy: 0.7345 - val_loss: 0.6259 - val_accuracy: 0.7013\n",
            "Epoch 29/30\n",
            "20/20 [==============================] - 0s 4ms/step - loss: 0.4854 - accuracy: 0.7459 - val_loss: 0.5864 - val_accuracy: 0.7403\n",
            "Epoch 30/30\n",
            "20/20 [==============================] - 0s 4ms/step - loss: 0.4831 - accuracy: 0.7524 - val_loss: 0.6239 - val_accuracy: 0.7208\n"
          ],
          "name": "stdout"
        }
      ]
    },
    {
      "cell_type": "markdown",
      "metadata": {
        "id": "IN9aw8WRHHxM"
      },
      "source": [
        "Testing"
      ]
    },
    {
      "cell_type": "code",
      "metadata": {
        "colab": {
          "base_uri": "https://localhost:8080/"
        },
        "id": "3co20co8HItS",
        "outputId": "4c626aa0-0dbd-43e3-d812-24e6edbda13b"
      },
      "source": [
        "d = {'pregnancies': [1], 'glucose': [85],'diastolic': [66],'triceps': [29],'insulin': [0],'bmi': [26.6],'dpf': [0.35],'age': [30]} \n",
        "df = pd.DataFrame(data=d) \n",
        "df \n",
        " \n",
        "test_y_predictions = model_2.predict(df) \n",
        "print(test_y_predictions) "
      ],
      "execution_count": 14,
      "outputs": [
        {
          "output_type": "stream",
          "text": [
            "[[0.8583609  0.14163911]]\n"
          ],
          "name": "stdout"
        }
      ]
    }
  ]
}